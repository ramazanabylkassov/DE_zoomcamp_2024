{
 "cells": [
  {
   "cell_type": "code",
   "execution_count": 2,
   "id": "e904b4b0",
   "metadata": {},
   "outputs": [],
   "source": [
    "import pandas as pd"
   ]
  },
  {
   "cell_type": "code",
   "execution_count": 6,
   "id": "ae5fe04e",
   "metadata": {},
   "outputs": [],
   "source": [
    "df = pd.read_csv('data/head_green_tripdata_2020_01.csv')"
   ]
  },
  {
   "cell_type": "code",
   "execution_count": 12,
   "id": "2bf62ad4",
   "metadata": {},
   "outputs": [
    {
     "data": {
      "text/plain": [
       "VendorID                   int64\n",
       "lpep_pickup_datetime      object\n",
       "lpep_dropoff_datetime     object\n",
       "store_and_fwd_flag        object\n",
       "RatecodeID                 int64\n",
       "PULocationID               int64\n",
       "DOLocationID               int64\n",
       "passenger_count            int64\n",
       "trip_distance            float64\n",
       "fare_amount              float64\n",
       "extra                    float64\n",
       "mta_tax                  float64\n",
       "tip_amount               float64\n",
       "tolls_amount             float64\n",
       "ehail_fee                float64\n",
       "improvement_surcharge    float64\n",
       "total_amount             float64\n",
       "payment_type               int64\n",
       "trip_type                  int64\n",
       "congestion_surcharge     float64\n",
       "dtype: object"
      ]
     },
     "execution_count": 12,
     "metadata": {},
     "output_type": "execute_result"
    }
   ],
   "source": [
    "df.dtypes"
   ]
  },
  {
   "cell_type": "code",
   "execution_count": 21,
   "id": "f7ba872b",
   "metadata": {},
   "outputs": [],
   "source": [
    "df_output = df[['VendorID', 'passenger_count', 'trip_distance', 'payment_type', 'total_amount']]"
   ]
  },
  {
   "cell_type": "code",
   "execution_count": 25,
   "id": "2fc23bce",
   "metadata": {},
   "outputs": [
    {
     "data": {
      "text/plain": [
       "VendorID             int64\n",
       "passenger_count      int64\n",
       "trip_distance      float64\n",
       "payment_type         int64\n",
       "total_amount       float64\n",
       "dtype: object"
      ]
     },
     "execution_count": 25,
     "metadata": {},
     "output_type": "execute_result"
    }
   ],
   "source": [
    "df_output.dtypes"
   ]
  },
  {
   "cell_type": "code",
   "execution_count": 29,
   "id": "57bb68d3",
   "metadata": {},
   "outputs": [],
   "source": [
    "df_output.to_csv('data/rides.csv', index=False)"
   ]
  },
  {
   "cell_type": "code",
   "execution_count": 3,
   "id": "ea9e01e8",
   "metadata": {},
   "outputs": [],
   "source": [
    "df = pd.read_csv('data/rides.csv')"
   ]
  },
  {
   "cell_type": "code",
   "execution_count": 4,
   "id": "d5b6acc7",
   "metadata": {},
   "outputs": [
    {
     "data": {
      "text/plain": [
       "VendorID             int64\n",
       "passenger_count      int64\n",
       "trip_distance      float64\n",
       "payment_type         int64\n",
       "total_amount       float64\n",
       "dtype: object"
      ]
     },
     "execution_count": 4,
     "metadata": {},
     "output_type": "execute_result"
    }
   ],
   "source": [
    "df.dtypes"
   ]
  },
  {
   "cell_type": "code",
   "execution_count": null,
   "id": "1b5f7124",
   "metadata": {},
   "outputs": [],
   "source": []
  }
 ],
 "metadata": {
  "kernelspec": {
   "display_name": "Python 3 (ipykernel)",
   "language": "python",
   "name": "python3"
  },
  "language_info": {
   "codemirror_mode": {
    "name": "ipython",
    "version": 3
   },
   "file_extension": ".py",
   "mimetype": "text/x-python",
   "name": "python",
   "nbconvert_exporter": "python",
   "pygments_lexer": "ipython3",
   "version": "3.11.5"
  }
 },
 "nbformat": 4,
 "nbformat_minor": 5
}
