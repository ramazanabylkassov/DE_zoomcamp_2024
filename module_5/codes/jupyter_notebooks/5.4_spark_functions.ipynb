{
 "cells": [
  {
   "cell_type": "markdown",
   "id": "1a97811a",
   "metadata": {},
   "source": [
    "### [GROUP BY](https://www.youtube.com/watch?v=9qrDsY_2COo&list=PL3MmuxUbc_hJed7dXYoJw8DoCuVHhGEQb&index=59)"
   ]
  },
  {
   "cell_type": "code",
   "execution_count": 3,
   "id": "7a4b82ae",
   "metadata": {},
   "outputs": [],
   "source": [
    "import pyspark\n",
    "from pyspark.sql import SparkSession, types\n",
    "from pyspark.sql import functions as F\n",
    "import pandas as pd"
   ]
  },
  {
   "cell_type": "code",
   "execution_count": 6,
   "id": "6ea75c24",
   "metadata": {},
   "outputs": [],
   "source": [
    "spark = SparkSession.builder \\\n",
    "    .master(\"local[*]\") \\\n",
    "    .appName('pyspark_test') \\\n",
    "    .getOrCreate()"
   ]
  },
  {
   "cell_type": "code",
   "execution_count": 3,
   "id": "49624b1f",
   "metadata": {},
   "outputs": [
    {
     "name": "stderr",
     "output_type": "stream",
     "text": [
      "/home/ramazan/spark/spark-3.4.2-bin-hadoop3/python/pyspark/sql/dataframe.py:330: FutureWarning: Deprecated in 2.0, use createOrReplaceTempView instead.\n",
      "  warnings.warn(\"Deprecated in 2.0, use createOrReplaceTempView instead.\", FutureWarning)\n",
      "                                                                                \r"
     ]
    }
   ],
   "source": [
    "df_green = spark.read.parquet(f'../../data/pq/green/*/*')\n",
    "\n",
    "df_green.registerTempTable('green')\n",
    "\n",
    "df_green_revenue = spark.sql(\"\"\"\n",
    "SELECT \n",
    "    date_trunc('hour', lpep_pickup_datetime) AS hour, \n",
    "    PULocationID AS zone,\n",
    "    SUM(total_amount) AS amount,\n",
    "    COUNT(1) AS number_records\n",
    "FROM green\n",
    "WHERE lpep_pickup_datetime > \"2020-01-01 00:00:00\"\n",
    "GROUP BY hour, zone\n",
    "\"\"\")\n",
    "\n",
    "df_green_revenue \\\n",
    "    .repartition(20) \\\n",
    "    .write.parquet('../../data/report/revenue/green', mode='overwrite')"
   ]
  },
  {
   "cell_type": "code",
   "execution_count": 4,
   "id": "45fdb12e",
   "metadata": {},
   "outputs": [
    {
     "name": "stderr",
     "output_type": "stream",
     "text": [
      "                                                                                \r"
     ]
    }
   ],
   "source": [
    "df_yellow = spark.read.parquet(f'../../data/pq/yellow/*/*')\n",
    "\n",
    "df_yellow.registerTempTable('yellow')\n",
    "\n",
    "df_yellow_revenue = spark.sql(\"\"\"\n",
    "SELECT \n",
    "    date_trunc('hour', tpep_pickup_datetime) AS hour, \n",
    "    PULocationID AS zone,\n",
    "    SUM(total_amount) AS amount,\n",
    "    COUNT(1) AS number_records\n",
    "FROM yellow\n",
    "WHERE tpep_pickup_datetime > \"2020-01-01 00:00:00\"\n",
    "GROUP BY hour, zone\n",
    "\"\"\")\n",
    "\n",
    "df_yellow_revenue \\\n",
    "    .repartition(20) \\\n",
    "    .write.parquet('../../data/report/revenue/yellow', mode='overwrite')"
   ]
  },
  {
   "cell_type": "markdown",
   "id": "e3deae82",
   "metadata": {},
   "source": [
    "### [JOINS](https://www.youtube.com/watch?v=lu7TrqAWuH4&list=PL3MmuxUbc_hJed7dXYoJw8DoCuVHhGEQb&index=60)"
   ]
  },
  {
   "cell_type": "code",
   "execution_count": 7,
   "id": "25cec9d7",
   "metadata": {},
   "outputs": [
    {
     "name": "stderr",
     "output_type": "stream",
     "text": [
      "                                                                                \r"
     ]
    }
   ],
   "source": [
    "# Use materialized tables, as opposed to generating them on-the-fly, \n",
    "\n",
    "df_green_revenue = spark.read.parquet('../../data/report/revenue/green')\n",
    "df_yellow_revenue = spark.read.parquet('../../data/report/revenue/yellow')"
   ]
  },
  {
   "cell_type": "code",
   "execution_count": 8,
   "id": "d480a303",
   "metadata": {},
   "outputs": [],
   "source": [
    "df_green_revenue_temp = df_green_revenue \\\n",
    "    .withColumnRenamed(\"amount\", \"green_amount\") \\\n",
    "    .withColumnRenamed(\"number_records\", \"green_number_records\")\n",
    "\n",
    "df_yellow_revenue_temp = df_yellow_revenue \\\n",
    "    .withColumnRenamed(\"amount\", \"yellow_amount\") \\\n",
    "    .withColumnRenamed(\"number_records\", \"yellow_number_records\")"
   ]
  },
  {
   "cell_type": "code",
   "execution_count": 9,
   "id": "02db177b",
   "metadata": {},
   "outputs": [],
   "source": [
    "df_total = df_green_revenue_temp.join(df_yellow_revenue_temp, on=[\"hour\", \"zone\"], how=\"outer\")"
   ]
  },
  {
   "cell_type": "code",
   "execution_count": 10,
   "id": "72aa4d55",
   "metadata": {},
   "outputs": [
    {
     "name": "stderr",
     "output_type": "stream",
     "text": [
      "[Stage 6:>                                                          (0 + 1) / 1]\r"
     ]
    },
    {
     "name": "stdout",
     "output_type": "stream",
     "text": [
      "+-------------------+----+------------------+--------------------+------------------+---------------------+\n",
      "|               hour|zone|      green_amount|green_number_records|     yellow_amount|yellow_number_records|\n",
      "+-------------------+----+------------------+--------------------+------------------+---------------------+\n",
      "|2020-01-01 00:00:00|   3|              null|                null|              25.0|                    1|\n",
      "|2020-01-01 00:00:00|   4|              null|                null|1004.3000000000002|                   57|\n",
      "|2020-01-01 00:00:00|   7| 769.7299999999996|                  45| 455.1700000000001|                   38|\n",
      "|2020-01-01 00:00:00|  12|              null|                null|             107.0|                    6|\n",
      "|2020-01-01 00:00:00|  37|            175.67|                   6|161.60999999999999|                    7|\n",
      "|2020-01-01 00:00:00|  40|168.97999999999996|                   8|             89.97|                    5|\n",
      "|2020-01-01 00:00:00|  45|              null|                null| 732.4800000000002|                   42|\n",
      "|2020-01-01 00:00:00|  47|              13.3|                   1|               8.3|                    1|\n",
      "|2020-01-01 00:00:00|  51|              17.8|                   2|              31.0|                    1|\n",
      "|2020-01-01 00:00:00|  62|             15.95|                   1|             61.43|                    1|\n",
      "|2020-01-01 00:00:00|  68|              null|                null|7798.6200000000135|                  394|\n",
      "|2020-01-01 00:00:00|  73|              null|                null|              17.3|                    1|\n",
      "|2020-01-01 00:00:00|  74|317.09000000000015|                  24| 586.2100000000002|                   47|\n",
      "|2020-01-01 00:00:00|  77| 75.99000000000001|                   2|            134.24|                    3|\n",
      "|2020-01-01 00:00:00|  80|364.32000000000005|                  13|             371.4|                   20|\n",
      "|2020-01-01 00:00:00|  83|              94.1|                   7|               9.8|                    1|\n",
      "|2020-01-01 00:00:00|  88|              null|                null| 823.8000000000002|                   36|\n",
      "|2020-01-01 00:00:00|  89|              11.3|                   1|             48.16|                    2|\n",
      "|2020-01-01 00:00:00|  94| 64.24000000000001|                   3|              13.3|                    1|\n",
      "|2020-01-01 00:00:00|  95|202.20000000000002|                  15|               6.3|                    1|\n",
      "+-------------------+----+------------------+--------------------+------------------+---------------------+\n",
      "only showing top 20 rows\n",
      "\n"
     ]
    },
    {
     "name": "stderr",
     "output_type": "stream",
     "text": [
      "\r",
      "                                                                                \r"
     ]
    }
   ],
   "source": [
    "df_total.show()"
   ]
  },
  {
   "cell_type": "code",
   "execution_count": 11,
   "id": "9e5f9e6c",
   "metadata": {},
   "outputs": [
    {
     "name": "stderr",
     "output_type": "stream",
     "text": [
      "                                                                                \r"
     ]
    }
   ],
   "source": [
    "df_total.write.parquet('../../data/report/revenue/total', mode=\"overwrite\")"
   ]
  },
  {
   "cell_type": "code",
   "execution_count": 12,
   "id": "dab45313",
   "metadata": {},
   "outputs": [],
   "source": [
    "df_total = spark.read.parquet('../../data/report/revenue/total')"
   ]
  },
  {
   "cell_type": "code",
   "execution_count": 13,
   "id": "4f1a3162",
   "metadata": {},
   "outputs": [
    {
     "name": "stdout",
     "output_type": "stream",
     "text": [
      "+-------------------+----+------------------+--------------------+------------------+---------------------+\n",
      "|               hour|zone|      green_amount|green_number_records|     yellow_amount|yellow_number_records|\n",
      "+-------------------+----+------------------+--------------------+------------------+---------------------+\n",
      "|2020-01-01 00:00:00|  14|              null|                null|               8.8|                    1|\n",
      "|2020-01-01 00:00:00|  15|              null|                null|             34.09|                    1|\n",
      "|2020-01-01 00:00:00|  17|195.03000000000003|                   9|220.20999999999998|                    8|\n",
      "|2020-01-01 00:00:00|  25| 531.0000000000002|                  26|            324.35|                   16|\n",
      "|2020-01-01 00:00:00|  32| 68.94999999999999|                   2|              18.0|                    1|\n",
      "|2020-01-01 00:00:00|  43|            107.52|                   6| 6539.510000000012|                  390|\n",
      "|2020-01-01 00:00:00|  49|266.76000000000005|                  14|185.64999999999998|                   10|\n",
      "|2020-01-01 00:00:00|  59|              50.9|                   3|              null|                 null|\n",
      "|2020-01-01 00:00:00|  69|              11.8|                   1|            106.52|                    4|\n",
      "|2020-01-01 00:00:00|  71|              23.8|                   1|              null|                 null|\n",
      "|2020-01-01 00:00:00|  72|             67.53|                   2|              null|                 null|\n",
      "|2020-01-01 00:00:00|  75|278.14000000000004|                  26| 958.3500000000004|                   69|\n",
      "|2020-01-01 00:00:00|  78|             34.46|                   2|              null|                 null|\n",
      "|2020-01-01 00:00:00|  82| 305.1200000000001|                  28|              29.8|                    1|\n",
      "|2020-01-01 00:00:00|  85|             64.76|                   4|            102.56|                    3|\n",
      "|2020-01-01 00:00:00|  87|              null|                null|2456.6699999999987|                  112|\n",
      "|2020-01-01 00:00:00|  93|              null|                null|210.28000000000003|                    3|\n",
      "|2020-01-01 00:00:00| 107|              null|                null| 6441.030000000006|                  380|\n",
      "|2020-01-01 00:00:00| 113|              null|                null| 3984.319999999998|                  220|\n",
      "|2020-01-01 00:00:00| 116|            328.76|                  18| 561.5100000000001|                   34|\n",
      "+-------------------+----+------------------+--------------------+------------------+---------------------+\n",
      "only showing top 20 rows\n",
      "\n"
     ]
    }
   ],
   "source": [
    "df_total.show()"
   ]
  },
  {
   "cell_type": "code",
   "execution_count": 14,
   "id": "e4a9f4bf",
   "metadata": {},
   "outputs": [],
   "source": [
    "df_zones = spark.read.parquet('../../data/pq/zones')"
   ]
  },
  {
   "cell_type": "code",
   "execution_count": 15,
   "id": "96e3c935",
   "metadata": {},
   "outputs": [
    {
     "name": "stdout",
     "output_type": "stream",
     "text": [
      "+----------+-------------+--------------------+------------+\n",
      "|LocationID|      Borough|                Zone|service_zone|\n",
      "+----------+-------------+--------------------+------------+\n",
      "|         1|          EWR|      Newark Airport|         EWR|\n",
      "|         2|       Queens|         Jamaica Bay|   Boro Zone|\n",
      "|         3|        Bronx|Allerton/Pelham G...|   Boro Zone|\n",
      "|         4|    Manhattan|       Alphabet City| Yellow Zone|\n",
      "|         5|Staten Island|       Arden Heights|   Boro Zone|\n",
      "|         6|Staten Island|Arrochar/Fort Wad...|   Boro Zone|\n",
      "|         7|       Queens|             Astoria|   Boro Zone|\n",
      "|         8|       Queens|        Astoria Park|   Boro Zone|\n",
      "|         9|       Queens|          Auburndale|   Boro Zone|\n",
      "|        10|       Queens|        Baisley Park|   Boro Zone|\n",
      "|        11|     Brooklyn|          Bath Beach|   Boro Zone|\n",
      "|        12|    Manhattan|        Battery Park| Yellow Zone|\n",
      "|        13|    Manhattan|   Battery Park City| Yellow Zone|\n",
      "|        14|     Brooklyn|           Bay Ridge|   Boro Zone|\n",
      "|        15|       Queens|Bay Terrace/Fort ...|   Boro Zone|\n",
      "|        16|       Queens|             Bayside|   Boro Zone|\n",
      "|        17|     Brooklyn|             Bedford|   Boro Zone|\n",
      "|        18|        Bronx|        Bedford Park|   Boro Zone|\n",
      "|        19|       Queens|           Bellerose|   Boro Zone|\n",
      "|        20|        Bronx|             Belmont|   Boro Zone|\n",
      "+----------+-------------+--------------------+------------+\n",
      "only showing top 20 rows\n",
      "\n"
     ]
    }
   ],
   "source": [
    "df_zones.show()"
   ]
  },
  {
   "cell_type": "code",
   "execution_count": 17,
   "id": "7b03bc14",
   "metadata": {},
   "outputs": [
    {
     "name": "stdout",
     "output_type": "stream",
     "text": [
      "root\n",
      " |-- LocationID: integer (nullable = true)\n",
      " |-- Borough: string (nullable = true)\n",
      " |-- Zone: string (nullable = true)\n",
      " |-- service_zone: string (nullable = true)\n",
      "\n"
     ]
    }
   ],
   "source": [
    "df_zones.printSchema()"
   ]
  },
  {
   "cell_type": "code",
   "execution_count": 27,
   "id": "c1a6a826",
   "metadata": {},
   "outputs": [
    {
     "name": "stdout",
     "output_type": "stream",
     "text": [
      "-RECORD 0------------------------------------\n",
      " hour                  | 2020-01-01 00:00:00 \n",
      " green_amount          | null                \n",
      " green_number_records  | null                \n",
      " yellow_amount         | 8.8                 \n",
      " yellow_number_records | 1                   \n",
      " Borough               | Brooklyn            \n",
      " service_zone          | Boro Zone           \n",
      "only showing top 1 row\n",
      "\n"
     ]
    }
   ],
   "source": [
    "df_result = df_total.join(df_zones, df_total.zone == df_zones.LocationID)\n",
    "df_result = df_result.drop('LocationID', 'zone')\n",
    "df_result.show(1, vertical=True)"
   ]
  },
  {
   "cell_type": "code",
   "execution_count": 28,
   "id": "1974130f",
   "metadata": {},
   "outputs": [
    {
     "name": "stderr",
     "output_type": "stream",
     "text": [
      "                                                                                \r"
     ]
    }
   ],
   "source": [
    "df_result.write.parquet('../../data/pq/tmp/revenue_zones')"
   ]
  },
  {
   "cell_type": "code",
   "execution_count": null,
   "id": "b84a0478",
   "metadata": {},
   "outputs": [],
   "source": []
  }
 ],
 "metadata": {
  "kernelspec": {
   "display_name": "Python 3 (ipykernel)",
   "language": "python",
   "name": "python3"
  },
  "language_info": {
   "codemirror_mode": {
    "name": "ipython",
    "version": 3
   },
   "file_extension": ".py",
   "mimetype": "text/x-python",
   "name": "python",
   "nbconvert_exporter": "python",
   "pygments_lexer": "ipython3",
   "version": "3.11.5"
  }
 },
 "nbformat": 4,
 "nbformat_minor": 5
}
